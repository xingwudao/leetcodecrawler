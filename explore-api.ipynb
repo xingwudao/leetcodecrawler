{
 "cells": [
  {
   "cell_type": "code",
   "execution_count": 81,
   "metadata": {
    "collapsed": false
   },
   "outputs": [],
   "source": [
    "import numpy as np\n",
    "import requests\n",
    "from bs4 import BeautifulSoup"
   ]
  },
  {
   "cell_type": "markdown",
   "metadata": {},
   "source": [
    "从标签入手，先抓取所有的标签。写一个简单的函数。"
   ]
  },
  {
   "cell_type": "code",
   "execution_count": 46,
   "metadata": {
    "collapsed": false
   },
   "outputs": [],
   "source": [
    "def crawl_all_tags(url = None):\n",
    "    all_problems = requests.get('https://leetcode.com/problemset/all/')\n",
    "    soup = BeautifulSoup(all_problems.content, \"html.parser\")\n",
    "    all_tags_div = soup.find(id = 'current-topic-tags')\n",
    "    for tags_a_tag in all_tags_div.find_all('a'):\n",
    "        tag = (tags_a_tag.span.text)\n",
    "        url = (\"https://leetcode.com/%s\" % tags_a_tag['href'])\n",
    "        yield  {'tag':tag, 'url':url}"
   ]
  },
  {
   "cell_type": "markdown",
   "metadata": {},
   "source": [
    "抓取每一个Tag下的问题列表。"
   ]
  },
  {
   "cell_type": "code",
   "execution_count": 42,
   "metadata": {
    "collapsed": false
   },
   "outputs": [],
   "source": [
    "def crawle_tag(tag = None, url = None):\n",
    "    html_content = requests.get(url)\n",
    "    soup = BeautifulSoup(html_content.content, \"html.parser\")\n",
    "    question_list = soup.find(id = 'question_list')\n",
    "    question_list_body = question_list.tbody\n",
    "    rows = question_list_body.find_all('tr')\n",
    "    results = []\n",
    "    for row in rows:\n",
    "        question = {'tag':tag}\n",
    "        cells = row.find_all('td')\n",
    "        question['id'] = cells[1].text.strip()\n",
    "        question['title'] = cells[2].a.text.strip()\n",
    "        question['url'] = cells[2].a['href'].strip()\n",
    "        question['ac'] = cells[3].text.strip()\n",
    "        question['difficult'] = cells[4].text.strip()\n",
    "        results.append(question)\n",
    "    return results"
   ]
  },
  {
   "cell_type": "markdown",
   "metadata": {},
   "source": [
    "执行前面两个函数，得到所有的问题。"
   ]
  },
  {
   "cell_type": "code",
   "execution_count": 47,
   "metadata": {
    "collapsed": false
   },
   "outputs": [],
   "source": [
    "questions = []\n",
    "for taginfo in crawl_all_tags():\n",
    "    tag = taginfo['tag']\n",
    "    url = taginfo['url']\n",
    "    results = crawle_tag(tag, url)\n",
    "    questions.append(results)"
   ]
  },
  {
   "cell_type": "markdown",
   "metadata": {},
   "source": [
    "# 数据分析\n",
    "\n",
    "简单统计一下。"
   ]
  },
  {
   "cell_type": "code",
   "execution_count": 88,
   "metadata": {
    "collapsed": false
   },
   "outputs": [],
   "source": [
    "stat = {'ac':{'total':[], 'tag':{}, 'difficult':{}}, 'tag':{},'difficult':{}, 'count':0, \"tag_diff\":{}}\n",
    "\n",
    "def p2f(p):\n",
    "    return float(p.strip('%'))/100\n",
    "\n",
    "for tagquestions in questions:\n",
    "    for question in tagquestions:\n",
    "        if question['difficult'] not in stat['difficult']:\n",
    "            stat['difficult'][question['difficult']] = 0\n",
    "        stat['difficult'][question['difficult']] += 1\n",
    "        \n",
    "        if question['tag'] not in stat['tag']:\n",
    "            stat['tag'][question['tag']] = 0\n",
    "        stat['tag'][question['tag']] += 1\n",
    "        tag_diff = question['tag'] + \"%%\" + question['difficult']\n",
    "        if tag_diff not in stat['tag_diff']:\n",
    "            stat['tag_diff'][tag_diff] = 0\n",
    "        stat['tag_diff'][tag_diff] += 1\n",
    "        stat['count'] += 1\n",
    "        \n",
    "        ac = p2f(question['ac'])\n",
    "        stat['ac']['total'].append(ac)\n",
    "        if question['tag'] not in stat['ac']['tag']:\n",
    "            stat['ac']['tag'][question['tag']] = []\n",
    "        stat['ac']['tag'][question['tag']].append(ac)\n",
    "        if question['difficult'] not in stat['ac']['difficult']:\n",
    "            stat['ac']['difficult'][question['difficult']] = []\n",
    "        stat['ac']['difficult'][question['difficult']].append(ac)"
   ]
  },
  {
   "cell_type": "markdown",
   "metadata": {},
   "source": [
    "统计项如下：\n",
    "\n",
    "1. 一共691个问题。其中容易的184个，难的143个，中等的364个，像是正态分布。\n",
    "2. 最多的问题是数组相关的，104个。最少的是设计问题，32个。\n",
    "3. 平均通过率0.37"
   ]
  },
  {
   "cell_type": "code",
   "execution_count": 89,
   "metadata": {
    "collapsed": false
   },
   "outputs": [
    {
     "name": "stdout",
     "output_type": "stream",
     "text": [
      "691\n",
      "{'Easy': 184, 'Hard': 143, 'Medium': 364}\n",
      "{'Binary Search': 41, 'Depth-first Search': 57, 'Tree': 74, 'Math': 78, 'Dynamic Programming': 85, 'Backtracking': 35, 'Two Pointers': 37, 'Array': 104, 'Design': 32, 'Hash Table': 66, 'String': 82}\n",
      "0.37\n"
     ]
    }
   ],
   "source": [
    "print(stat['count'])\n",
    "print(stat['difficult'])\n",
    "print(stat['tag'])\n",
    "print(\"%.2f\" % np.mean(stat['ac']['total']))"
   ]
  },
  {
   "cell_type": "markdown",
   "metadata": {},
   "source": [
    "综合Tag和难度交叉来看排序。头等的还是数组类中等难度题。"
   ]
  },
  {
   "cell_type": "code",
   "execution_count": 90,
   "metadata": {
    "collapsed": false
   },
   "outputs": [],
   "source": [
    "tag_diff = sorted(stat['tag_diff'].items(), key = lambda x: x[1], reverse = True)"
   ]
  },
  {
   "cell_type": "code",
   "execution_count": 91,
   "metadata": {
    "collapsed": false
   },
   "outputs": [
    {
     "data": {
      "text/plain": [
       "[('Array%%Medium', 57),\n",
       " ('Dynamic Programming%%Medium', 44),\n",
       " ('Tree%%Medium', 44),\n",
       " ('Math%%Medium', 40),\n",
       " ('Depth-first Search%%Medium', 37),\n",
       " ('String%%Medium', 36),\n",
       " ('Dynamic Programming%%Hard', 34),\n",
       " ('Array%%Easy', 33),\n",
       " ('Hash Table%%Medium', 29),\n",
       " ('Math%%Easy', 27),\n",
       " ('Hash Table%%Easy', 26),\n",
       " ('Tree%%Easy', 25),\n",
       " ('String%%Easy', 24),\n",
       " ('Backtracking%%Medium', 23),\n",
       " ('String%%Hard', 22),\n",
       " ('Binary Search%%Medium', 20),\n",
       " ('Two Pointers%%Medium', 18),\n",
       " ('Design%%Medium', 16),\n",
       " ('Array%%Hard', 14),\n",
       " ('Two Pointers%%Easy', 14),\n",
       " ('Backtracking%%Hard', 11),\n",
       " ('Depth-first Search%%Hard', 11),\n",
       " ('Hash Table%%Hard', 11),\n",
       " ('Math%%Hard', 11),\n",
       " ('Binary Search%%Easy', 11),\n",
       " ('Binary Search%%Hard', 10),\n",
       " ('Depth-first Search%%Easy', 9),\n",
       " ('Design%%Hard', 9),\n",
       " ('Design%%Easy', 7),\n",
       " ('Dynamic Programming%%Easy', 7),\n",
       " ('Tree%%Hard', 5),\n",
       " ('Two Pointers%%Hard', 5),\n",
       " ('Backtracking%%Easy', 1)]"
      ]
     },
     "execution_count": 91,
     "metadata": {},
     "output_type": "execute_result"
    }
   ],
   "source": [
    "tag_diff"
   ]
  },
  {
   "cell_type": "markdown",
   "metadata": {},
   "source": [
    "看到这个，我想简单按照这样的思路来刷题：把容易度占比升序。\n",
    "\n",
    "容易度定义可以有2个：\n",
    "\n",
    "1. Tag的AC率均值\n",
    "2. 1 - Tag的difficult题目比例"
   ]
  },
  {
   "cell_type": "code",
   "execution_count": 97,
   "metadata": {
    "collapsed": false
   },
   "outputs": [
    {
     "data": {
      "text/plain": [
       "[('Tree', 0.41710810810810811),\n",
       " ('Hash Table', 0.3959545454545455),\n",
       " ('Depth-first Search', 0.39133333333333331),\n",
       " ('Array', 0.37540384615384614),\n",
       " ('Math', 0.3702948717948718),\n",
       " ('Two Pointers', 0.36091891891891892),\n",
       " ('Backtracking', 0.3597428571428572),\n",
       " ('Binary Search', 0.3554146341463415),\n",
       " ('String', 0.34948780487804876),\n",
       " ('Design', 0.34890625000000003),\n",
       " ('Dynamic Programming', 0.34762352941176472)]"
      ]
     },
     "execution_count": 97,
     "metadata": {},
     "output_type": "execute_result"
    }
   ],
   "source": [
    "def sort_tag_by_ac_mean(stat):\n",
    "    ac_mean = []\n",
    "    for tag_ac in stat['ac']['tag']:\n",
    "        ac = np.mean(stat['ac']['tag'][tag_ac])\n",
    "        ac_mean.append((tag_ac, ac))\n",
    "    return sorted(ac_mean, key = lambda x:x[1], reverse=True)\n",
    "\n",
    "sort_tag_by_ac_mean(stat)"
   ]
  },
  {
   "cell_type": "markdown",
   "metadata": {},
   "source": [
    "看上去是是树相关的问题通过率最高，动态规划问题最难，和直觉相符。\n",
    "再看我们用另一种定义来排序看看。"
   ]
  },
  {
   "cell_type": "code",
   "execution_count": 105,
   "metadata": {
    "collapsed": false
   },
   "outputs": [
    {
     "data": {
      "text/plain": [
       "[('Design', 0.16216216216216217),\n",
       " ('Backtracking', 0.15),\n",
       " ('Two Pointers', 0.14285714285714285),\n",
       " ('Binary Search', 0.13043478260869565),\n",
       " ('Depth-first Search', 0.0967741935483871),\n",
       " ('Hash Table', 0.08450704225352113),\n",
       " ('Tree', 0.0759493670886076),\n",
       " ('Math', 0.07228915662650602),\n",
       " ('String', 0.06896551724137931),\n",
       " ('Dynamic Programming', 0.06666666666666667),\n",
       " ('Array', 0.05504587155963303)]"
      ]
     },
     "execution_count": 105,
     "metadata": {},
     "output_type": "execute_result"
    }
   ],
   "source": [
    "def sort_tag_by_easy_rate(stat):\n",
    "    easy_rate = []\n",
    "    tag_diff = {}\n",
    "    for item in stat['tag_diff']:\n",
    "        tag, diff = item.split('%%')\n",
    "        if diff != 'Easy':\n",
    "            continue\n",
    "        if tag not in tag_diff:\n",
    "            tag_diff[tag] = 0\n",
    "\n",
    "        tag_diff[tag] += 1\n",
    "    for tag in tag_diff:\n",
    "        total = stat['tag'][tag]\n",
    "        hard_count = tag_diff[tag]\n",
    "        easy_rate.append((tag, float(hard_count + 5)/float(5 + total)))\n",
    "    return sorted(easy_rate, key = lambda x: x[1], reverse=True)\n",
    "\n",
    "sort_tag_by_easy_rate(stat)"
   ]
  },
  {
   "cell_type": "markdown",
   "metadata": {},
   "source": [
    "至此我已经有点迷惑了，觉得这个题目的难度评级和大家实际表现出来的AC率完全不一致啊。\n",
    "\n",
    "至此，我还是相信群众的AC率了，不相信专家的难度评级。按照以下顺序刷题："
   ]
  },
  {
   "cell_type": "code",
   "execution_count": 106,
   "metadata": {
    "collapsed": false
   },
   "outputs": [
    {
     "data": {
      "text/plain": [
       "[('Tree', 0.41710810810810811),\n",
       " ('Hash Table', 0.3959545454545455),\n",
       " ('Depth-first Search', 0.39133333333333331),\n",
       " ('Array', 0.37540384615384614),\n",
       " ('Math', 0.3702948717948718),\n",
       " ('Two Pointers', 0.36091891891891892),\n",
       " ('Backtracking', 0.3597428571428572),\n",
       " ('Binary Search', 0.3554146341463415),\n",
       " ('String', 0.34948780487804876),\n",
       " ('Design', 0.34890625000000003),\n",
       " ('Dynamic Programming', 0.34762352941176472)]"
      ]
     },
     "execution_count": 106,
     "metadata": {},
     "output_type": "execute_result"
    }
   ],
   "source": [
    "sort_tag_by_ac_mean(stat)"
   ]
  }
 ],
 "metadata": {
  "kernelspec": {
   "display_name": "Python 3",
   "language": "python",
   "name": "python3"
  },
  "language_info": {
   "codemirror_mode": {
    "name": "ipython",
    "version": 3
   },
   "file_extension": ".py",
   "mimetype": "text/x-python",
   "name": "python",
   "nbconvert_exporter": "python",
   "pygments_lexer": "ipython3",
   "version": "3.5.4"
  }
 },
 "nbformat": 4,
 "nbformat_minor": 0
}
